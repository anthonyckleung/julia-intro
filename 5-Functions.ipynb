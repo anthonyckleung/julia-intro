{
 "cells": [
  {
   "cell_type": "markdown",
   "source": [
    "# Functions\r\n",
    "\r\n",
    "Topics:\r\n",
    "\r\n",
    "1. How to declare a function\r\n",
    "2. Duck-typing in Julia\r\n",
    "3. Mutating vs. non-mutating functions\r\n",
    "4. Some higher order functions"
   ],
   "metadata": {}
  },
  {
   "cell_type": "markdown",
   "source": [
    "# How to declare a function\r\n",
    "\r\n",
    "Julia gives us a few different ways to write a function. The first requires the `function` and `end` keywords."
   ],
   "metadata": {}
  },
  {
   "cell_type": "code",
   "execution_count": 1,
   "source": [
    "function sayhi(name)\r\n",
    "    println(\"Hi $name, it's great to see you!\")\r\n",
    "end"
   ],
   "outputs": [
    {
     "output_type": "display_data",
     "data": {
      "text/plain": [
       "sayhi (generic function with 1 method)"
      ]
     },
     "metadata": {}
    }
   ],
   "metadata": {}
  },
  {
   "cell_type": "code",
   "execution_count": 2,
   "source": [
    "function f(x)\r\n",
    "    x^2\r\n",
    "end"
   ],
   "outputs": [
    {
     "output_type": "display_data",
     "data": {
      "text/plain": [
       "f (generic function with 1 method)"
      ]
     },
     "metadata": {}
    }
   ],
   "metadata": {}
  },
  {
   "cell_type": "markdown",
   "source": [
    "We can call either of these functions like this:"
   ],
   "metadata": {}
  },
  {
   "cell_type": "code",
   "execution_count": 3,
   "source": [
    "sayhi(\"C-3PO\")"
   ],
   "outputs": [
    {
     "output_type": "stream",
     "name": "stdout",
     "text": [
      "Hi C-3PO, it's great to see you!"
     ]
    }
   ],
   "metadata": {}
  },
  {
   "cell_type": "code",
   "execution_count": 4,
   "source": [
    "f(42)"
   ],
   "outputs": [
    {
     "output_type": "display_data",
     "data": {
      "text/plain": [
       "1764"
      ]
     },
     "metadata": {}
    }
   ],
   "metadata": {}
  },
  {
   "cell_type": "markdown",
   "source": [
    "Alternatively, we could have declared either of these functions in a single line"
   ],
   "metadata": {}
  },
  {
   "cell_type": "code",
   "execution_count": 5,
   "source": [
    "sayhi2(name) = println(\"Hi $name, it's great to see you!\")"
   ],
   "outputs": [
    {
     "output_type": "display_data",
     "data": {
      "text/plain": [
       "sayhi2 (generic function with 1 method)"
      ]
     },
     "metadata": {}
    }
   ],
   "metadata": {}
  },
  {
   "cell_type": "markdown",
   "source": [
    "Finally, we could have declared these as \"anonymous\" functions"
   ],
   "metadata": {}
  },
  {
   "cell_type": "code",
   "execution_count": 6,
   "source": [
    "sayhi3 = name -> println(\"Hi $name, it's great to see you!\")"
   ],
   "outputs": [
    {
     "output_type": "display_data",
     "data": {
      "text/plain": [
       "#3 (generic function with 1 method)"
      ]
     },
     "metadata": {}
    }
   ],
   "metadata": {}
  },
  {
   "cell_type": "code",
   "execution_count": 7,
   "source": [
    "f3 = x -> x^2"
   ],
   "outputs": [
    {
     "output_type": "display_data",
     "data": {
      "text/plain": [
       "#5 (generic function with 1 method)"
      ]
     },
     "metadata": {}
    }
   ],
   "metadata": {}
  },
  {
   "cell_type": "code",
   "execution_count": 8,
   "source": [
    "sayhi3(\"Chewbaca\")"
   ],
   "outputs": [
    {
     "output_type": "stream",
     "name": "stdout",
     "text": [
      "Hi Chewbaca, it's great to see you!"
     ]
    }
   ],
   "metadata": {}
  },
  {
   "cell_type": "code",
   "execution_count": 9,
   "source": [
    "f3(42)"
   ],
   "outputs": [
    {
     "output_type": "display_data",
     "data": {
      "text/plain": [
       "1764"
      ]
     },
     "metadata": {}
    }
   ],
   "metadata": {}
  },
  {
   "cell_type": "markdown",
   "source": [
    "# Duck-typing in Julia\r\n",
    "\r\n",
    "*\"If it quacks like a duck, it's a duck.\"*\r\n",
    "\r\n",
    "Julia functions will just work on whatever inputs make sense.\r\n",
    "\r\n",
    "For example, `sayhi` works on the name of this minor tv character, written as an integer.."
   ],
   "metadata": {}
  },
  {
   "cell_type": "code",
   "execution_count": 10,
   "source": [
    "sayhi(55595472)"
   ],
   "outputs": [
    {
     "output_type": "stream",
     "name": "stdout",
     "text": [
      "Hi 55595472, it's great to see you!\n"
     ]
    }
   ],
   "metadata": {}
  },
  {
   "cell_type": "markdown",
   "source": [
    "And `f` will work on a matrix."
   ],
   "metadata": {}
  },
  {
   "cell_type": "code",
   "execution_count": 11,
   "source": [
    "A = rand(3,3)\r\n",
    "A"
   ],
   "outputs": [
    {
     "output_type": "display_data",
     "data": {
      "text/plain": [
       "3×3 Matrix{Float64}:\n",
       " 0.215975   0.809662  0.711977\n",
       " 0.522466   0.857456  0.291404\n",
       " 0.0834421  0.466495  0.0999937"
      ]
     },
     "metadata": {}
    }
   ],
   "metadata": {}
  },
  {
   "cell_type": "code",
   "execution_count": 12,
   "source": [
    "f(A)"
   ],
   "outputs": [
    {
     "output_type": "display_data",
     "data": {
      "text/plain": [
       "3×3 Matrix{Float64}:\n",
       " 0.529075  1.20125   0.460901\n",
       " 0.585147  1.29419   0.650989\n",
       " 0.270093  0.514205  0.205346"
      ]
     },
     "metadata": {}
    }
   ],
   "metadata": {}
  },
  {
   "cell_type": "markdown",
   "source": [
    "`f` will also work on a string like \"hi\" because * is defined for string inputs as string concatenation."
   ],
   "metadata": {}
  },
  {
   "cell_type": "code",
   "execution_count": 13,
   "source": [
    "f(\"hi\")"
   ],
   "outputs": [
    {
     "output_type": "display_data",
     "data": {
      "text/plain": [
       "\"hihi\""
      ]
     },
     "metadata": {}
    }
   ],
   "metadata": {}
  },
  {
   "cell_type": "markdown",
   "source": [
    "On the other hand, `f` will not work on a vector. Unlike `A^2` is well-defined, the meaning of `v^2` for a vector, `v`, is not a well-defined algebraic operation."
   ],
   "metadata": {}
  },
  {
   "cell_type": "code",
   "execution_count": 14,
   "source": [
    "v = rand(3)"
   ],
   "outputs": [
    {
     "output_type": "display_data",
     "data": {
      "text/plain": [
       "3-element Vector{Float64}:\n",
       " 0.28439069509767156\n",
       " 0.8651686443836704\n",
       " 0.8067408613498601"
      ]
     },
     "metadata": {}
    }
   ],
   "metadata": {}
  },
  {
   "cell_type": "code",
   "execution_count": 15,
   "source": [
    "f(v)  # This will not work"
   ],
   "outputs": [
    {
     "output_type": "error",
     "ename": "MethodError",
     "evalue": "MethodError: no method matching ^(::Vector{Float64}, ::Int64)\nClosest candidates are:\n  ^(!Matched::Union{AbstractChar, AbstractString}, ::Integer) at strings/basic.jl:718\n  ^(!Matched::Complex{var\"#s79\"} where var\"#s79\"<:AbstractFloat, ::Integer) at complex.jl:818\n  ^(!Matched::Complex{var\"#s79\"} where var\"#s79\"<:Integer, ::Integer) at complex.jl:820\n  ...",
     "traceback": [
      "\n",
      "Stacktrace:\n",
      "  [1] macro expansion\n",
      "    @ .\\none:0 [inlined]\n",
      "  [2] literal_pow\n",
      "    @ .\\none:0 [inlined]\n",
      "  [3] f(x::Vector{Float64})\n",
      "    @ Main e:\\Projects\\julia-intro\\5-Functions.ipynb:2\n",
      "  [4] top-level scope\n",
      "    @ e:\\Projects\\julia-intro\\5-Functions.ipynb:1\n",
      "  [5] eval\n",
      "    @ .\\boot.jl:360 [inlined]\n",
      "  [6] include_string(mapexpr::typeof(REPL.softscope), mod::Module, code::String, filename::String)\n",
      "    @ Base .\\loading.jl:1116\n",
      "  [7] #invokelatest#2\n",
      "    @ .\\essentials.jl:708 [inlined]\n",
      "  [8] invokelatest\n",
      "    @ .\\essentials.jl:706 [inlined]\n",
      "  [9] (::VSCodeServer.var\"#98#99\"{VSCodeServer.NotebookRunCellArguments, String})()\n",
      "    @ VSCodeServer c:\\Users\\Anthony\\.vscode\\extensions\\julialang.language-julia-1.4.3\\scripts\\packages\\VSCodeServer\\src\\serve_notebook.jl:18\n",
      " [10] withpath(f::VSCodeServer.var\"#98#99\"{VSCodeServer.NotebookRunCellArguments, String}, path::String)\n",
      "    @ VSCodeServer c:\\Users\\Anthony\\.vscode\\extensions\\julialang.language-julia-1.4.3\\scripts\\packages\\VSCodeServer\\src\\repl.jl:185\n",
      " [11] notebook_runcell_request(conn::VSCodeServer.JSONRPC.JSONRPCEndpoint{Base.PipeEndpoint, Base.PipeEndpoint}, params::VSCodeServer.NotebookRunCellArguments)\n",
      "    @ VSCodeServer c:\\Users\\Anthony\\.vscode\\extensions\\julialang.language-julia-1.4.3\\scripts\\packages\\VSCodeServer\\src\\serve_notebook.jl:14\n",
      " [12] dispatch_msg(x::VSCodeServer.JSONRPC.JSONRPCEndpoint{Base.PipeEndpoint, Base.PipeEndpoint}, dispatcher::VSCodeServer.JSONRPC.MsgDispatcher, msg::Dict{String, Any})\n",
      "    @ VSCodeServer.JSONRPC c:\\Users\\Anthony\\.vscode\\extensions\\julialang.language-julia-1.4.3\\scripts\\packages\\JSONRPC\\src\\typed.jl:67\n",
      " [13] serve_notebook(pipename::String; crashreporting_pipename::String)\n",
      "    @ VSCodeServer c:\\Users\\Anthony\\.vscode\\extensions\\julialang.language-julia-1.4.3\\scripts\\packages\\VSCodeServer\\src\\serve_notebook.jl:94\n",
      " [14] top-level scope\n",
      "    @ c:\\Users\\Anthony\\.vscode\\extensions\\julialang.language-julia-1.4.3\\scripts\\notebook\\notebook.jl:10\n",
      " [15] include(mod::Module, _path::String)\n",
      "    @ Base .\\Base.jl:386\n",
      " [16] exec_options(opts::Base.JLOptions)\n",
      "    @ Base .\\client.jl:285\n",
      " [17] _start()\n",
      "    @ Base .\\client.jl:485"
     ]
    }
   ],
   "metadata": {}
  },
  {
   "cell_type": "markdown",
   "source": [
    "# Mutating vs. non-mutating functions\r\n",
    "\r\n",
    "By convention, functions followed by `!` alter their contents and functions lacking `!` do not.\r\n",
    "\r\n",
    "For example, let's look at the difference between `sort` and `sort!`."
   ],
   "metadata": {}
  },
  {
   "cell_type": "code",
   "execution_count": 16,
   "source": [
    "v = [3,5,2]"
   ],
   "outputs": [
    {
     "output_type": "display_data",
     "data": {
      "text/plain": [
       "3-element Vector{Int64}:\n",
       " 3\n",
       " 5\n",
       " 2"
      ]
     },
     "metadata": {}
    }
   ],
   "metadata": {}
  },
  {
   "cell_type": "code",
   "execution_count": 17,
   "source": [
    "sort(v)"
   ],
   "outputs": [
    {
     "output_type": "display_data",
     "data": {
      "text/plain": [
       "3-element Vector{Int64}:\n",
       " 2\n",
       " 3\n",
       " 5"
      ]
     },
     "metadata": {}
    }
   ],
   "metadata": {}
  },
  {
   "cell_type": "code",
   "execution_count": 18,
   "source": [
    "v"
   ],
   "outputs": [
    {
     "output_type": "display_data",
     "data": {
      "text/plain": [
       "3-element Vector{Int64}:\n",
       " 3\n",
       " 5\n",
       " 2"
      ]
     },
     "metadata": {}
    }
   ],
   "metadata": {}
  },
  {
   "cell_type": "markdown",
   "source": [
    "On the other hand, when we run `sort!(v)`, the contents `v` are sorted within array `v`."
   ],
   "metadata": {}
  },
  {
   "cell_type": "code",
   "execution_count": 19,
   "source": [
    "sort!(v)"
   ],
   "outputs": [
    {
     "output_type": "display_data",
     "data": {
      "text/plain": [
       "3-element Vector{Int64}:\n",
       " 2\n",
       " 3\n",
       " 5"
      ]
     },
     "metadata": {}
    }
   ],
   "metadata": {}
  },
  {
   "cell_type": "code",
   "execution_count": 20,
   "source": [
    "v"
   ],
   "outputs": [
    {
     "output_type": "display_data",
     "data": {
      "text/plain": [
       "3-element Vector{Int64}:\n",
       " 2\n",
       " 3\n",
       " 5"
      ]
     },
     "metadata": {}
    }
   ],
   "metadata": {}
  },
  {
   "cell_type": "markdown",
   "source": [
    "# Some higher order functions\r\n",
    "\r\n",
    "## map\r\n",
    "\r\n",
    "`map` is a \"higher-order\" function in Julia that *takes a function* as one of its input arguements. `map` then applies that function to every element of the data structure you pass it. For example, executing\r\n",
    "\r\n",
    "`   map(f, [1,2,3])`\r\n",
    "\r\n",
    "will give you an output array where the function `f` has been applies to all elements of `[1,2,3]`\r\n",
    "\r\n",
    "`   [f(1), f(2), f(3)] `"
   ],
   "metadata": {}
  },
  {
   "cell_type": "code",
   "execution_count": 21,
   "source": [
    "map(f, [1, 2, 3])"
   ],
   "outputs": [
    {
     "output_type": "display_data",
     "data": {
      "text/plain": [
       "3-element Vector{Int64}:\n",
       " 1\n",
       " 4\n",
       " 9"
      ]
     },
     "metadata": {}
    }
   ],
   "metadata": {}
  },
  {
   "cell_type": "markdown",
   "source": [
    "Here we have squared all the elements of the vector `[1, 2, 3]`, rather than squaring the vector `[1, 2, 3]`.\r\n",
    "\r\n",
    "To do this, we could have passed to `map` an anonymous function rather than a named function, such as "
   ],
   "metadata": {}
  },
  {
   "cell_type": "code",
   "execution_count": 22,
   "source": [
    "x -> x^3"
   ],
   "outputs": [
    {
     "output_type": "display_data",
     "data": {
      "text/plain": [
       "#7 (generic function with 1 method)"
      ]
     },
     "metadata": {}
    }
   ],
   "metadata": {}
  },
  {
   "cell_type": "code",
   "execution_count": 23,
   "source": [
    "map(x-> x^3, [1,2,3])"
   ],
   "outputs": [
    {
     "output_type": "display_data",
     "data": {
      "text/plain": [
       "3-element Vector{Int64}:\n",
       "  1\n",
       "  8\n",
       " 27"
      ]
     },
     "metadata": {}
    }
   ],
   "metadata": {}
  },
  {
   "cell_type": "markdown",
   "source": [
    "and now we have cubed all the elements of `[1, 2, 3]`"
   ],
   "metadata": {}
  },
  {
   "cell_type": "markdown",
   "source": [
    "## Broadcast\r\n",
    "\r\n",
    "`broadcast` is another higher-order function like `map`. `broadcast` is a generalization of `map`, so it can do everything `map` can do and more. The syntax for calling `broadcast` is the same as for calling `map`."
   ],
   "metadata": {}
  },
  {
   "cell_type": "code",
   "execution_count": 24,
   "source": [
    "broadcast(f, [1,2,3])"
   ],
   "outputs": [
    {
     "output_type": "display_data",
     "data": {
      "text/plain": [
       "3-element Vector{Int64}:\n",
       " 1\n",
       " 4\n",
       " 9"
      ]
     },
     "metadata": {}
    }
   ],
   "metadata": {}
  },
  {
   "cell_type": "markdown",
   "source": [
    "and again, we have applied `f` (squared) to all the elements of `[1, 2, 3]` - this time by \"broadcasting\" `f`. \r\n",
    "\r\n",
    "Some syntactic sugar for calling `broadcast` is to place a `.` between the name of the function you want to `broadcast` and its input arguments. For example,\r\n",
    "\r\n",
    "`\r\n",
    "broadcast(f, [1,2,3])\r\n",
    "`\r\n",
    "\r\n",
    "is the same as\r\n",
    "\r\n",
    "`\r\n",
    "f.([1,2,3])\r\n",
    "`"
   ],
   "metadata": {}
  },
  {
   "cell_type": "code",
   "execution_count": 25,
   "source": [
    "f.([1,2,3])"
   ],
   "outputs": [
    {
     "output_type": "display_data",
     "data": {
      "text/plain": [
       "3-element Vector{Int64}:\n",
       " 1\n",
       " 4\n",
       " 9"
      ]
     },
     "metadata": {}
    }
   ],
   "metadata": {}
  },
  {
   "cell_type": "markdown",
   "source": [
    "Notice again how different this is from calling\r\n",
    "\r\n",
    "`f([1,2,3])`\r\n",
    "\r\n",
    "We can square every element of a vector, but we can't square a vector!\r\n",
    "\r\n",
    "To drive home the point, let's look at the difference between\r\n",
    "\r\n",
    "`f(A)`\r\n",
    "\r\n",
    "and \r\n",
    "\r\n",
    "`f.(A)`\r\n",
    "\r\n",
    "for a matrix A."
   ],
   "metadata": {}
  },
  {
   "cell_type": "code",
   "execution_count": 26,
   "source": [
    "A = [i + 3*j for j in 0:2, i in 1:3]"
   ],
   "outputs": [
    {
     "output_type": "display_data",
     "data": {
      "text/plain": [
       "3×3 Matrix{Int64}:\n",
       " 1  2  3\n",
       " 4  5  6\n",
       " 7  8  9"
      ]
     },
     "metadata": {}
    }
   ],
   "metadata": {}
  },
  {
   "cell_type": "code",
   "execution_count": 27,
   "source": [
    "f(A)"
   ],
   "outputs": [
    {
     "output_type": "display_data",
     "data": {
      "text/plain": [
       "3×3 Matrix{Int64}:\n",
       "  30   36   42\n",
       "  66   81   96\n",
       " 102  126  150"
      ]
     },
     "metadata": {}
    }
   ],
   "metadata": {}
  },
  {
   "cell_type": "markdown",
   "source": [
    "As before we see that for a matrix, A,\r\n",
    "\r\n",
    "` f(A) = A^2 = A * A`\r\n",
    "\r\n",
    "On the other hand,"
   ],
   "metadata": {}
  },
  {
   "cell_type": "code",
   "execution_count": 28,
   "source": [
    "B = f.(A)"
   ],
   "outputs": [
    {
     "output_type": "display_data",
     "data": {
      "text/plain": [
       "3×3 Matrix{Int64}:\n",
       "  1   4   9\n",
       " 16  25  36\n",
       " 49  64  81"
      ]
     },
     "metadata": {}
    }
   ],
   "metadata": {}
  },
  {
   "cell_type": "markdown",
   "source": [
    "contains the squares of all the entries of A.\r\n",
    "\r\n",
    "This dot syntax for broadcasting allows us to write relatively complex compound element-wise expressions in a way that looks natural/closer to mathematical notation. For example, we can write"
   ],
   "metadata": {}
  },
  {
   "cell_type": "code",
   "execution_count": 29,
   "source": [
    "A .+ 2 .* f.(A) ./ A"
   ],
   "outputs": [
    {
     "output_type": "display_data",
     "data": {
      "text/plain": [
       "3×3 Matrix{Float64}:\n",
       "  3.0   6.0   9.0\n",
       " 12.0  15.0  18.0\n",
       " 21.0  24.0  27.0"
      ]
     },
     "metadata": {}
    }
   ],
   "metadata": {}
  },
  {
   "cell_type": "code",
   "execution_count": 30,
   "source": [
    "broadcast(x -> x+2*f(x)/x, A)"
   ],
   "outputs": [
    {
     "output_type": "display_data",
     "data": {
      "text/plain": [
       "3×3 Matrix{Float64}:\n",
       "  3.0   6.0   9.0\n",
       " 12.0  15.0  18.0\n",
       " 21.0  24.0  27.0"
      ]
     },
     "metadata": {}
    }
   ],
   "metadata": {}
  },
  {
   "cell_type": "markdown",
   "source": [
    "and the 2 will perform exactly the same."
   ],
   "metadata": {}
  },
  {
   "cell_type": "markdown",
   "source": [
    "# Exercises\r\n",
    "\r\n",
    "**6.1**\r\n",
    "\r\n",
    "Write a function `add_one` that adds 1 to its input."
   ],
   "metadata": {}
  },
  {
   "cell_type": "code",
   "execution_count": 32,
   "source": [
    "function add_one(x)\r\n",
    "    x + 1\r\n",
    "end"
   ],
   "outputs": [
    {
     "output_type": "display_data",
     "data": {
      "text/plain": [
       "add_one (generic function with 1 method)"
      ]
     },
     "metadata": {}
    }
   ],
   "metadata": {}
  },
  {
   "cell_type": "code",
   "execution_count": 33,
   "source": [
    "@assert add_one(1) == 2"
   ],
   "outputs": [],
   "metadata": {}
  },
  {
   "cell_type": "code",
   "execution_count": 34,
   "source": [
    "@assert add_one(11) == 12"
   ],
   "outputs": [],
   "metadata": {}
  },
  {
   "cell_type": "markdown",
   "source": [
    "**6.2** \r\n",
    "\r\n",
    "Use `map` or `broadcast` to increment every element of matrix A by ` and assign it to a variable A1."
   ],
   "metadata": {}
  },
  {
   "cell_type": "code",
   "execution_count": 38,
   "source": [
    "A1 = map(add_one, A)"
   ],
   "outputs": [
    {
     "output_type": "display_data",
     "data": {
      "text/plain": [
       "3×3 Matrix{Int64}:\n",
       " 2  3   4\n",
       " 5  6   7\n",
       " 8  9  10"
      ]
     },
     "metadata": {}
    }
   ],
   "metadata": {}
  },
  {
   "cell_type": "code",
   "execution_count": 39,
   "source": [
    "@assert A1 == [2 3 4; 5 6 7; 8 9 10]"
   ],
   "outputs": [],
   "metadata": {}
  },
  {
   "cell_type": "markdown",
   "source": [
    "**6.3**\r\n",
    "\r\n",
    "Use the broadcast dot syntax to increment every element of matrix A1 by 1 and store it in variable A2."
   ],
   "metadata": {}
  },
  {
   "cell_type": "code",
   "execution_count": 41,
   "source": [
    "A2 = add_one.(A1)"
   ],
   "outputs": [
    {
     "output_type": "display_data",
     "data": {
      "text/plain": [
       "3×3 Matrix{Int64}:\n",
       " 3   4   5\n",
       " 6   7   8\n",
       " 9  10  11"
      ]
     },
     "metadata": {}
    }
   ],
   "metadata": {}
  },
  {
   "cell_type": "code",
   "execution_count": 42,
   "source": [
    "@assert A2 == [3 4 5; 6 7 8; 9 10 11]"
   ],
   "outputs": [],
   "metadata": {}
  },
  {
   "cell_type": "code",
   "execution_count": null,
   "source": [],
   "outputs": [],
   "metadata": {}
  }
 ],
 "metadata": {
  "orig_nbformat": 4,
  "language_info": {
   "name": "julia",
   "version": "1.6.2",
   "mimetype": "application/julia",
   "file_extension": ".jl"
  },
  "kernelspec": {
   "display_name": "Julia 1.6.2",
   "language": "julia",
   "name": "julia-1.6"
  }
 },
 "nbformat": 4,
 "nbformat_minor": 2
}