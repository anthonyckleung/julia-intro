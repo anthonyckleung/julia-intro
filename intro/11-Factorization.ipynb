{
 "cells": [
  {
   "cell_type": "markdown",
   "source": [
    "# Factorizations and other fun\r\n",
    "\r\n",
    "Based on the work by Andreas Noack\r\n",
    "\r\n",
    "## Outline\r\n",
    "\r\n",
    "* Factorizations\r\n",
    "* Special matrix structures\r\n",
    "* Generic linear algebra"
   ],
   "metadata": {}
  },
  {
   "cell_type": "markdown",
   "source": [
    "Before we get started, let's set up a linear system and use LinearAlgebra to bring in the factorizations and special matrix structures."
   ],
   "metadata": {}
  },
  {
   "cell_type": "code",
   "execution_count": 1,
   "source": [
    "using LinearAlgebra"
   ],
   "outputs": [],
   "metadata": {}
  },
  {
   "cell_type": "code",
   "execution_count": 2,
   "source": [
    "A = rand(3,3)\r\n",
    "x = fill(1, (3,))\r\n",
    "b = A * x"
   ],
   "outputs": [
    {
     "data": {
      "text/plain": [
       "3-element Vector{Float64}:\n",
       " 1.6285190519865413\n",
       " 0.9876967412478956\n",
       " 1.8832519848049258"
      ]
     },
     "metadata": {},
     "output_type": "display_data"
    }
   ],
   "metadata": {}
  },
  {
   "cell_type": "markdown",
   "source": [
    "# Factorizations\r\n",
    "\r\n",
    "**LU Factorizations**\r\n",
    "\r\n",
    "In Julia we can perform an LU factorization\r\n",
    "\r\n",
    "` PA = LU `\r\n",
    "\r\n",
    "where `P` is a permutation matrix, `L` is lower triangular unit diagonal and `U` is upper triangular, using `lufact`.\r\n",
    "\r\n",
    "Julia allows computing the LU factorization and defines a composite factorization type for storing it."
   ],
   "metadata": {}
  },
  {
   "cell_type": "code",
   "execution_count": 3,
   "source": [
    "Alu = lu(A)"
   ],
   "outputs": [
    {
     "data": {
      "text/plain": [
       "LU{Float64, Matrix{Float64}}\n",
       "L factor:\n",
       "3×3 Matrix{Float64}:\n",
       " 1.0       0.0      0.0\n",
       " 0.478868  1.0      0.0\n",
       " 0.300171  0.29519  1.0\n",
       "U factor:\n",
       "3×3 Matrix{Float64}:\n",
       " 0.926838  0.659477  0.296938\n",
       " 0.0       0.4014    0.325291\n",
       " 0.0       0.0       0.207888"
      ]
     },
     "metadata": {},
     "output_type": "display_data"
    }
   ],
   "metadata": {}
  },
  {
   "cell_type": "code",
   "execution_count": 4,
   "source": [
    "typeof(Alu)"
   ],
   "outputs": [
    {
     "data": {
      "text/plain": [
       "LU{Float64, Matrix{Float64}}"
      ]
     },
     "metadata": {},
     "output_type": "display_data"
    }
   ],
   "metadata": {}
  },
  {
   "cell_type": "code",
   "execution_count": 5,
   "source": [
    "Alu.P"
   ],
   "outputs": [
    {
     "data": {
      "text/plain": [
       "3×3 Matrix{Float64}:\n",
       " 0.0  0.0  1.0\n",
       " 1.0  0.0  0.0\n",
       " 0.0  1.0  0.0"
      ]
     },
     "metadata": {},
     "output_type": "display_data"
    }
   ],
   "metadata": {}
  },
  {
   "cell_type": "code",
   "execution_count": 6,
   "source": [
    "Alu.L"
   ],
   "outputs": [
    {
     "data": {
      "text/plain": [
       "3×3 Matrix{Float64}:\n",
       " 1.0       0.0      0.0\n",
       " 0.478868  1.0      0.0\n",
       " 0.300171  0.29519  1.0"
      ]
     },
     "metadata": {},
     "output_type": "display_data"
    }
   ],
   "metadata": {}
  },
  {
   "cell_type": "code",
   "execution_count": 7,
   "source": [
    "Alu.U"
   ],
   "outputs": [
    {
     "data": {
      "text/plain": [
       "3×3 Matrix{Float64}:\n",
       " 0.926838  0.659477  0.296938\n",
       " 0.0       0.4014    0.325291\n",
       " 0.0       0.0       0.207888"
      ]
     },
     "metadata": {},
     "output_type": "display_data"
    }
   ],
   "metadata": {}
  },
  {
   "cell_type": "markdown",
   "source": [
    "Julia can dispatch methods on factorization objects.\r\n",
    "\r\n",
    "For example, we can solve the linear system using either the original matrix or the factorization object."
   ],
   "metadata": {}
  },
  {
   "cell_type": "code",
   "execution_count": 8,
   "source": [
    "A\\b"
   ],
   "outputs": [
    {
     "data": {
      "text/plain": [
       "3-element Vector{Float64}:\n",
       " 1.0\n",
       " 1.0\n",
       " 1.0"
      ]
     },
     "metadata": {},
     "output_type": "display_data"
    }
   ],
   "metadata": {}
  },
  {
   "cell_type": "markdown",
   "source": [
    "Similarly, we can calculate the determinant `A` using either `A` or the factorization object."
   ],
   "metadata": {}
  },
  {
   "cell_type": "code",
   "execution_count": 11,
   "source": [
    "det(A) ≈ det(Alu)"
   ],
   "outputs": [
    {
     "output_type": "error",
     "ename": "StackOverflowError",
     "evalue": "StackOverflowError:",
     "traceback": [
      "\n",
      "Stacktrace:\n",
      " [1] det(A::LU{Float64, Matrix{Float64}}) (repeats 39991 times)\n",
      "   @ Main e:\\Projects\\julia-intro\\11-Factorization.ipynb:1"
     ]
    }
   ],
   "metadata": {}
  },
  {
   "cell_type": "markdown",
   "source": [
    "**QR factorizations**\r\n",
    "\r\n",
    "In Julia, we can perform a QR factorization\r\n",
    "\r\n",
    "` A = QR`\r\n",
    "\r\n",
    "where `Q` is unitary/orthogonal and `R` is upper triangular, using `qrfact`."
   ],
   "metadata": {}
  },
  {
   "cell_type": "code",
   "execution_count": 12,
   "source": [
    "Aqr = qr(A)"
   ],
   "outputs": [
    {
     "data": {
      "text/plain": [
       "LinearAlgebra.QRCompactWY{Float64, Matrix{Float64}}\n",
       "Q factor:\n",
       "3×3 LinearAlgebra.QRCompactWYQ{Float64, Matrix{Float64}}:\n",
       " -0.416893  -0.864792  -0.279884\n",
       " -0.261323  -0.180886   0.948151\n",
       " -0.870581   0.468418  -0.15058\n",
       "R factor:\n",
       "3×3 Matrix{Float64}:\n",
       " -1.06462  -0.955818  -0.55611\n",
       "  0.0      -0.36856   -0.336282\n",
       "  0.0       0.0        0.197109"
      ]
     },
     "metadata": {},
     "output_type": "display_data"
    }
   ],
   "metadata": {}
  },
  {
   "cell_type": "markdown",
   "source": [
    "Similary to the LU factorization, the matrices `Q` and `R` can be extracted from the QR factorization object via"
   ],
   "metadata": {}
  },
  {
   "cell_type": "code",
   "execution_count": 13,
   "source": [
    "Aqr.Q"
   ],
   "outputs": [
    {
     "data": {
      "text/plain": [
       "3×3 LinearAlgebra.QRCompactWYQ{Float64, Matrix{Float64}}:\n",
       " -0.416893  -0.864792  -0.279884\n",
       " -0.261323  -0.180886   0.948151\n",
       " -0.870581   0.468418  -0.15058"
      ]
     },
     "metadata": {},
     "output_type": "display_data"
    }
   ],
   "metadata": {}
  },
  {
   "cell_type": "markdown",
   "source": [
    "**Eigendecompositions**\r\n",
    "\r\n",
    "The results from eigendecompositions, singular value decompositions, Hessenberg factorizations, and Schur decompositions are all stored in `Factorization` types.\r\n",
    "\r\n",
    "The eigendecomposition can be computed"
   ],
   "metadata": {}
  },
  {
   "cell_type": "code",
   "execution_count": 14,
   "source": [
    "Asym = A + A'\r\n",
    "\r\n",
    "AsymEig = eigen(Asym)"
   ],
   "outputs": [
    {
     "data": {
      "text/plain": [
       "Eigen{Float64, Float64, Matrix{Float64}, Vector{Float64}}\n",
       "values:\n",
       "3-element Vector{Float64}:\n",
       " -0.6845850302713503\n",
       " -0.21926352837677915\n",
       "  3.018278221798017\n",
       "vectors:\n",
       "3×3 Matrix{Float64}:\n",
       " -0.578456   0.524778  -0.624497\n",
       " -0.195604  -0.832484  -0.518371\n",
       "  0.791914   0.177701  -0.584204"
      ]
     },
     "metadata": {},
     "output_type": "display_data"
    }
   ],
   "metadata": {}
  },
  {
   "cell_type": "markdown",
   "source": [
    "Once again, when the factorization is stored in a type, we can dispatch on it and write specialized methods that exploit the properties of the factorization, e.g., that $A^{-1} = (VAV^{-1})^{-1} = VA^{-1}V^{-1}$"
   ],
   "metadata": {}
  },
  {
   "cell_type": "code",
   "execution_count": 15,
   "source": [
    "inv(AsymEig)*Asym"
   ],
   "outputs": [
    {
     "data": {
      "text/plain": [
       "3×3 Matrix{Float64}:\n",
       "  1.0          9.4369e-16  2.77556e-16\n",
       " -4.44089e-16  1.0         1.11022e-16\n",
       "  2.22045e-15  1.9984e-15  1.0"
      ]
     },
     "metadata": {},
     "output_type": "display_data"
    }
   ],
   "metadata": {}
  },
  {
   "cell_type": "markdown",
   "source": [
    "# Special matrix structures\r\n",
    "\r\n",
    "Matrix structure is very important in linear algebra. To see *how* important it is, let's work with a larger linear system."
   ],
   "metadata": {}
  },
  {
   "cell_type": "code",
   "execution_count": 16,
   "source": [
    "n=1000\r\n",
    "A = randn(n,n)"
   ],
   "outputs": [
    {
     "data": {
      "text/plain": [
       "1000×1000 Matrix{Float64}:\n",
       " -0.170173    0.449764   0.418922   …   0.0765621  -0.608347   0.927496\n",
       " -0.568386   -1.02332    0.268471      -0.900554   -0.728072  -0.456117\n",
       " -1.35838     1.02273   -0.709727       0.870261   -1.30944    1.68497\n",
       " -1.23079     0.26268    0.274005      -2.44682    -0.675794  -0.861997\n",
       " -2.49219     1.20794    0.60891        1.42312     0.243537   0.769205\n",
       " -1.17777     1.00541   -0.60207    …   1.303       0.900621   0.0110131\n",
       "  0.610323   -0.313819   0.272685       0.967454    1.63768    0.241092\n",
       " -0.476148   -0.222604   0.343215       0.485629   -0.593052   1.28417\n",
       " -1.35716    -0.390429  -0.0238847      1.61431    -2.17262   -1.32605\n",
       " -0.937341   -0.250715  -0.73475        1.83622    -0.481781   0.358581\n",
       "  ⋮                                 ⋱                         \n",
       " -0.373309    0.782192   0.502226       1.47237     0.964867  -0.483396\n",
       "  1.46015    -0.113071   0.0741491      1.49649     0.32096   -1.39151\n",
       "  1.55036     0.782345  -1.35598       -0.567031   -0.93781    1.52809\n",
       "  1.19689    -0.548584   0.307808       0.696302   -0.924636   0.367176\n",
       "  0.379062    0.518374  -0.576282   …  -0.593714    1.64895    1.21219\n",
       "  0.971208    1.07897   -0.918723       0.911762    0.570871   1.23781\n",
       " -0.51969    -0.714397   0.785685      -1.61728     0.215664   0.570226\n",
       "  0.281193   -1.56415   -0.770407       0.254524   -2.09872    0.998378\n",
       " -0.0163186  -1.12768   -0.345649       0.959676    1.46197   -0.225686"
      ]
     },
     "metadata": {},
     "output_type": "display_data"
    }
   ],
   "metadata": {}
  },
  {
   "cell_type": "markdown",
   "source": [
    "Julia can often infer special matrix structure"
   ],
   "metadata": {}
  },
  {
   "cell_type": "code",
   "execution_count": 18,
   "source": [
    "Asym = A + A'\r\n",
    "issymmetric(Asym)"
   ],
   "outputs": [
    {
     "data": {
      "text/plain": [
       "true"
      ]
     },
     "metadata": {},
     "output_type": "display_data"
    }
   ],
   "metadata": {}
  },
  {
   "cell_type": "markdown",
   "source": [
    "but sometimes floating point error might get in the way."
   ],
   "metadata": {}
  },
  {
   "cell_type": "code",
   "execution_count": 19,
   "source": [
    "Asym_noisy = copy(Asym)\r\n",
    "Asym_noisy[1,2] += 5eps()"
   ],
   "outputs": [
    {
     "data": {
      "text/plain": [
       "3.1190238384387605"
      ]
     },
     "metadata": {},
     "output_type": "display_data"
    }
   ],
   "metadata": {}
  },
  {
   "cell_type": "code",
   "execution_count": 20,
   "source": [
    "issymmetric(Asym_noisy)"
   ],
   "outputs": [
    {
     "data": {
      "text/plain": [
       "false"
      ]
     },
     "metadata": {},
     "output_type": "display_data"
    }
   ],
   "metadata": {}
  },
  {
   "cell_type": "markdown",
   "source": [
    "Luckily we can declare structure explicitly with, for example, `Diagonal`, `Triangular`, `Symmetric`, `Hermitian`, `Tridiagonal`, and `SymTridiagonal`."
   ],
   "metadata": {}
  },
  {
   "cell_type": "code",
   "execution_count": 26,
   "source": [
    "Asym_explicit = Symmetric(Asym_noisy);"
   ],
   "outputs": [],
   "metadata": {}
  },
  {
   "cell_type": "markdown",
   "source": [
    "Let us compare how long it takes Julia to compute the eigenvalues of `Asym`, `Asym_noisy`, and `Asym_explicit`"
   ],
   "metadata": {}
  },
  {
   "cell_type": "code",
   "execution_count": 22,
   "source": [
    "@time eigvals(Asym);"
   ],
   "outputs": [
    {
     "output_type": "stream",
     "name": "stdout",
     "text": [
      "  0.396973 seconds (133.94 k allocations: 15.454 MiB, 49.50% compilation time)\n"
     ]
    }
   ],
   "metadata": {}
  },
  {
   "cell_type": "code",
   "execution_count": 24,
   "source": [
    "@time eigvals(Asym_noisy);"
   ],
   "outputs": [
    {
     "output_type": "stream",
     "name": "stdout",
     "text": [
      "  1.007631 seconds (13 allocations: 7.920 MiB, 8.54% gc time)"
     ]
    }
   ],
   "metadata": {}
  },
  {
   "cell_type": "code",
   "execution_count": 27,
   "source": [
    "@time eigvals(Asym_explicit);"
   ],
   "outputs": [
    {
     "output_type": "stream",
     "name": "stdout",
     "text": [
      "  0.237145 seconds (5.88 k allocations: 8.358 MiB, 2.75% compilation time)"
     ]
    }
   ],
   "metadata": {}
  },
  {
   "cell_type": "markdown",
   "source": [
    "In this example, using Symmetric() on Asym_noisy made our calculations about 5x more efficient :)"
   ],
   "metadata": {}
  },
  {
   "cell_type": "markdown",
   "source": [
    "## A big problem\r\n",
    "\r\n",
    "Using the `Tridiagonal` and `SymTridiagonal` types to store tridiagonal matrices makes it possible to work with potentially very large tridiagonal problems. The following problem would not be possible to solve on a laptop if the matrix had to be stored as a (dense) `Matrix` type."
   ],
   "metadata": {}
  },
  {
   "cell_type": "code",
   "execution_count": 28,
   "source": [
    "n=1_000_000;\r\n",
    "A = SymTridiagonal(randn(n), randn(n-1));\r\n",
    "@time eigmax(A)"
   ],
   "outputs": [
    {
     "output_type": "stream",
     "name": "stdout",
     "text": [
      "  0.904051 seconds (829.33 k allocations: 229.703 MiB, 10.36% gc time, 38.24% compilation time)\n"
     ]
    },
    {
     "data": {
      "text/plain": [
       "6.486845320895192"
      ]
     },
     "metadata": {},
     "output_type": "display_data"
    }
   ],
   "metadata": {}
  },
  {
   "cell_type": "markdown",
   "source": [
    "# Generic linear algebra\r\n",
    "\r\n",
    "The usual way of adding support for numerical linear algebra is by wrapping BLAS and LAPACK subroutines. For matrices with elements of `Float32`, `Float64`, `Complex{Float32}` or `Complex{Float64}` this is also what Julia does.\r\n",
    "\r\n",
    "However, Julia also support generic linear algebra, allowing you to, for example, work with matrices and vectors of rational numbers."
   ],
   "metadata": {}
  },
  {
   "cell_type": "markdown",
   "source": [
    "**Rational numbers**\r\n",
    "\r\n",
    "Julia has rational numbers built-in. To construct a rational number, use double forward slashes:"
   ],
   "metadata": {}
  },
  {
   "cell_type": "code",
   "execution_count": 29,
   "source": [
    "1//2"
   ],
   "outputs": [
    {
     "data": {
      "text/plain": [
       "1//2"
      ]
     },
     "metadata": {},
     "output_type": "display_data"
    }
   ],
   "metadata": {}
  },
  {
   "cell_type": "markdown",
   "source": [
    "**Example: Rational linear system of equations**\r\n",
    "\r\n",
    "The following example shows how linear system of equations with rational elements can be solved without promoting to floating point element types. Overflow can easily become a problem when working with rational numbers so we use `BigInt`."
   ],
   "metadata": {}
  },
  {
   "cell_type": "code",
   "execution_count": 30,
   "source": [
    "Arational = Matrix{Rational{BigInt}}(rand(1:10, 3,3))/10"
   ],
   "outputs": [
    {
     "data": {
      "text/plain": [
       "3×3 Matrix{Rational{BigInt}}:\n",
       " 4//5  3//10  2//5\n",
       " 4//5  1//1   1//2\n",
       " 1//1  1//2   1//10"
      ]
     },
     "metadata": {},
     "output_type": "display_data"
    }
   ],
   "metadata": {}
  },
  {
   "cell_type": "code",
   "execution_count": 31,
   "source": [
    "x = fill(1,3)\r\n",
    "b = Arational*x"
   ],
   "outputs": [
    {
     "data": {
      "text/plain": [
       "3-element Vector{Rational{BigInt}}:\n",
       "  3//2\n",
       " 23//10\n",
       "  8//5"
      ]
     },
     "metadata": {},
     "output_type": "display_data"
    }
   ],
   "metadata": {}
  },
  {
   "cell_type": "code",
   "execution_count": 32,
   "source": [
    "Arational\\b"
   ],
   "outputs": [
    {
     "data": {
      "text/plain": [
       "3-element Vector{Rational{BigInt}}:\n",
       " 1//1\n",
       " 1//1\n",
       " 1//1"
      ]
     },
     "metadata": {},
     "output_type": "display_data"
    }
   ],
   "metadata": {}
  },
  {
   "cell_type": "code",
   "execution_count": 33,
   "source": [
    "lu(Arational)"
   ],
   "outputs": [
    {
     "data": {
      "text/plain": [
       "LU{Rational{BigInt}, Matrix{Rational{BigInt}}}\n",
       "L factor:\n",
       "3×3 Matrix{Rational{BigInt}}:\n",
       " 1//1   0//1  0//1\n",
       " 4//5   1//1  0//1\n",
       " 4//5  -1//6  1//1\n",
       "U factor:\n",
       "3×3 Matrix{Rational{BigInt}}:\n",
       " 1//1  1//2   1//10\n",
       " 0//1  3//5  21//50\n",
       " 0//1  0//1  39//100"
      ]
     },
     "metadata": {},
     "output_type": "display_data"
    }
   ],
   "metadata": {}
  },
  {
   "cell_type": "markdown",
   "source": [
    "# Exercises"
   ],
   "metadata": {}
  },
  {
   "cell_type": "markdown",
   "source": [
    "**11.1**\r\n",
    "\r\n",
    "What are the eigenvalues of matrix A?\r\n",
    "\r\n",
    "```\r\n",
    "A =\r\n",
    "[\r\n",
    " 140   97   74  168  131\r\n",
    "  97  106   89  131   36\r\n",
    "  74   89  152  144   71\r\n",
    " 168  131  144   54  142\r\n",
    " 131   36   71  142   36\r\n",
    "]\r\n",
    "```\r\n",
    "\r\n",
    "and assign it a variable A_eigv"
   ],
   "metadata": {}
  },
  {
   "cell_type": "code",
   "execution_count": 34,
   "source": [
    "using LinearAlgebra"
   ],
   "outputs": [],
   "metadata": {}
  },
  {
   "cell_type": "code",
   "execution_count": 47,
   "source": [
    "\r\n",
    "A =\r\n",
    "[\r\n",
    " 140   97   74  168  131\r\n",
    "  97  106   89  131   36\r\n",
    "  74   89  152  144   71\r\n",
    " 168  131  144   54  142\r\n",
    " 131   36   71  142   36\r\n",
    "]\r\n"
   ],
   "outputs": [
    {
     "data": {
      "text/plain": [
       "5×5 Matrix{Int64}:\n",
       " 140   97   74  168  131\n",
       "  97  106   89  131   36\n",
       "  74   89  152  144   71\n",
       " 168  131  144   54  142\n",
       " 131   36   71  142   36"
      ]
     },
     "metadata": {},
     "output_type": "display_data"
    }
   ],
   "metadata": {}
  },
  {
   "cell_type": "code",
   "execution_count": 36,
   "source": [
    "A_eigv = eigvals(A)"
   ],
   "outputs": [
    {
     "data": {
      "text/plain": [
       "5-element Vector{Float64}:\n",
       " -128.49322764802145\n",
       "  -55.887784553056875\n",
       "   42.7521672793189\n",
       "   87.16111477514521\n",
       "  542.4677301466143"
      ]
     },
     "metadata": {},
     "output_type": "display_data"
    }
   ],
   "metadata": {}
  },
  {
   "cell_type": "code",
   "execution_count": 37,
   "source": [
    "@assert A_eigv ==  [-128.49322764802145, -55.887784553056875, 42.7521672793189, 87.16111477514521, 542.4677301466143]"
   ],
   "outputs": [],
   "metadata": {}
  },
  {
   "cell_type": "markdown",
   "source": [
    "**11.2**\r\n",
    "\r\n",
    "Create a `Diagonal` matrix from the eigenvalues of A."
   ],
   "metadata": {}
  },
  {
   "cell_type": "code",
   "execution_count": 46,
   "source": [
    "A_diag = Diagonal(A_eigv)"
   ],
   "outputs": [
    {
     "data": {
      "text/plain": [
       "5×5 Diagonal{Float64, Vector{Float64}}:\n",
       " -128.493     ⋅        ⋅        ⋅         ⋅ \n",
       "     ⋅     -55.8878    ⋅        ⋅         ⋅ \n",
       "     ⋅        ⋅      42.7522    ⋅         ⋅ \n",
       "     ⋅        ⋅        ⋅      87.1611     ⋅ \n",
       "     ⋅        ⋅        ⋅        ⋅      542.468"
      ]
     },
     "metadata": {},
     "output_type": "display_data"
    }
   ],
   "metadata": {}
  },
  {
   "cell_type": "code",
   "execution_count": null,
   "source": [
    "@assert A_diag ==  [ -128.493     ⋅        ⋅        ⋅         ⋅ \r\n",
    "⋅     -55.8878    ⋅        ⋅         ⋅ \r\n",
    "⋅        ⋅      42.7522    ⋅         ⋅ \r\n",
    "⋅        ⋅        ⋅      87.1611     ⋅ \r\n",
    "⋅        ⋅        ⋅        ⋅      542.468]"
   ],
   "outputs": [],
   "metadata": {}
  },
  {
   "cell_type": "markdown",
   "source": [
    "**11.3**\r\n",
    "\r\n",
    "Create a `LowerTriangular` matrix from A and store it in `A_lowertri`"
   ],
   "metadata": {}
  },
  {
   "cell_type": "code",
   "execution_count": 48,
   "source": [
    "A_lowertri = LowerTriangular(A)"
   ],
   "outputs": [
    {
     "data": {
      "text/plain": [
       "5×5 LowerTriangular{Int64, Matrix{Int64}}:\n",
       " 140    ⋅    ⋅    ⋅   ⋅\n",
       "  97  106    ⋅    ⋅   ⋅\n",
       "  74   89  152    ⋅   ⋅\n",
       " 168  131  144   54   ⋅\n",
       " 131   36   71  142  36"
      ]
     },
     "metadata": {},
     "output_type": "display_data"
    }
   ],
   "metadata": {}
  },
  {
   "cell_type": "code",
   "execution_count": null,
   "source": [],
   "outputs": [],
   "metadata": {}
  }
 ],
 "metadata": {
  "orig_nbformat": 4,
  "language_info": {
   "name": "julia",
   "version": "1.6.2",
   "mimetype": "application/julia",
   "file_extension": ".jl"
  },
  "kernelspec": {
   "display_name": "Julia 1.6.2",
   "language": "julia",
   "name": "julia-1.6"
  }
 },
 "nbformat": 4,
 "nbformat_minor": 2
}