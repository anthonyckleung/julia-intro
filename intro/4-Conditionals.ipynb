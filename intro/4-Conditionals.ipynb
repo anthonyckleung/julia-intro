{
 "cells": [
  {
   "cell_type": "markdown",
   "source": [
    "# Conditionals\r\n",
    "\r\n",
    "In Julia, the syntax\r\n",
    "\r\n",
    "```\r\n",
    "    if <condition 1>\r\n",
    "        <option 1>\r\n",
    "    elseif <condition 2>\r\n",
    "        <option 2>\r\n",
    "    else \r\n",
    "        <option 3>\r\n",
    "    end\r\n",
    "```\r\n",
    "\r\n",
    "allows us to condtionally evaluate one of our options.\r\n",
    "\r\n",
    "For example, we might want to implement the FizzBuzz test: given a number, N, print \"Fizz\" if N is divisibel by 3, \"Buzz\" if N is divisible by 5, and \"FizzBuzz\" if N is divisible by 3 and 5. Otherwise just print the number itself! Enter your choice for N here:"
   ],
   "metadata": {}
  },
  {
   "cell_type": "code",
   "execution_count": 1,
   "source": [
    "N = 5"
   ],
   "outputs": [
    {
     "output_type": "display_data",
     "data": {
      "text/plain": [
       "5"
      ]
     },
     "metadata": {}
    }
   ],
   "metadata": {}
  },
  {
   "cell_type": "code",
   "execution_count": 3,
   "source": [
    "if (N%3==0) && (N%5==0)  # && means AND; % computes the modulus\r\n",
    "    println(\"FizzBuzz\")\r\n",
    "elseif N%3==0\r\n",
    "    println(\"Fizz\")\r\n",
    "elseif N%5==0\r\n",
    "    println(\"Buzz\")\r\n",
    "else\r\n",
    "    println(N)\r\n",
    "end"
   ],
   "outputs": [
    {
     "output_type": "stream",
     "name": "stdout",
     "text": [
      "Buzz\n"
     ]
    }
   ],
   "metadata": {}
  },
  {
   "cell_type": "markdown",
   "source": [
    "# With Ternary operators\r\n",
    "\r\n",
    "For this last block, we could instead use the ternary operator with the syntax\r\n",
    "\r\n",
    "` a ? b : c`\r\n",
    "which equates to\r\n",
    "\r\n",
    "```\r\n",
    "    if a\r\n",
    "         b\r\n",
    "    else\r\n",
    "        c\r\n",
    "    end\r\n",
    "```\r\n",
    "\r\n",
    "Now let's say we want to return the larger of 2 numbers. Give x and y values here:"
   ],
   "metadata": {}
  },
  {
   "cell_type": "code",
   "execution_count": 4,
   "source": [
    "x = 10\r\n",
    "y = 30"
   ],
   "outputs": [
    {
     "output_type": "display_data",
     "data": {
      "text/plain": [
       "30"
      ]
     },
     "metadata": {}
    }
   ],
   "metadata": {}
  },
  {
   "cell_type": "markdown",
   "source": [
    "Using the `if` and `else` keywords, we might write:"
   ],
   "metadata": {}
  },
  {
   "cell_type": "code",
   "execution_count": 5,
   "source": [
    "if x > y\r\n",
    "    x \r\n",
    "else \r\n",
    "    y\r\n",
    "end "
   ],
   "outputs": [
    {
     "output_type": "display_data",
     "data": {
      "text/plain": [
       "30"
      ]
     },
     "metadata": {}
    }
   ],
   "metadata": {}
  },
  {
   "cell_type": "markdown",
   "source": [
    "and as a ternary operator, the condtionals looks like this:"
   ],
   "metadata": {}
  },
  {
   "cell_type": "code",
   "execution_count": 6,
   "source": [
    "(x > y) ? x : y"
   ],
   "outputs": [
    {
     "output_type": "display_data",
     "data": {
      "text/plain": [
       "30"
      ]
     },
     "metadata": {}
    }
   ],
   "metadata": {}
  },
  {
   "cell_type": "markdown",
   "source": [
    "# With short-circuit evaluation\r\n",
    "\r\n",
    "We've already seen expressions with the syntax \r\n",
    "\r\n",
    "```\r\n",
    "    a && b\r\n",
    "```\r\n",
    "to return true if both `a` and `b` are true. Of course, if `a` is false, Julia doesn't even need to know the value of `b` in order to determine that the overall result will be false. So Julia doesn't even need to check what `b` is; it can just \"short-circuit\" and immediately return false. The second argument `b` might be a more complicated expression like a function call with a side-effect, in which case it won't even be called:"
   ],
   "metadata": {}
  },
  {
   "cell_type": "code",
   "execution_count": 7,
   "source": [
    "false && (println(\"hi\"); true)"
   ],
   "outputs": [
    {
     "output_type": "display_data",
     "data": {
      "text/plain": [
       "false"
      ]
     },
     "metadata": {}
    }
   ],
   "metadata": {}
  },
  {
   "cell_type": "code",
   "execution_count": 8,
   "source": [
    "true && (println(\"hi\"); true)"
   ],
   "outputs": [
    {
     "output_type": "stream",
     "name": "stdout",
     "text": [
      "hi\n"
     ]
    },
    {
     "output_type": "display_data",
     "data": {
      "text/plain": [
       "true"
      ]
     },
     "metadata": {}
    }
   ],
   "metadata": {}
  },
  {
   "cell_type": "markdown",
   "source": [
    "\r\n",
    "On the other hand, if `a` is true, Julia knows it can just return the value of `b` as the overall expression. This means that `b` doesn't necessarily need evaluate to true or false! `b` could even be an error:"
   ],
   "metadata": {}
  },
  {
   "cell_type": "code",
   "execution_count": 9,
   "source": [
    "(x > 0) && error(\"x cannot be greater than 0\")"
   ],
   "outputs": [
    {
     "output_type": "error",
     "ename": "ErrorException",
     "evalue": "x cannot be greater than 0",
     "traceback": [
      "\n",
      "Stacktrace:\n",
      "  [1] error(s::String)\n",
      "    @ Base .\\error.jl:33\n",
      "  [2] top-level scope\n",
      "    @ e:\\Projects\\julia-intro\\4-Conditionals.ipynb:1\n",
      "  [3] eval\n",
      "    @ .\\boot.jl:360 [inlined]\n",
      "  [4] include_string(mapexpr::typeof(REPL.softscope), mod::Module, code::String, filename::String)\n",
      "    @ Base .\\loading.jl:1116\n",
      "  [5] #invokelatest#2\n",
      "    @ .\\essentials.jl:708 [inlined]\n",
      "  [6] invokelatest\n",
      "    @ .\\essentials.jl:706 [inlined]\n",
      "  [7] (::VSCodeServer.var\"#98#99\"{VSCodeServer.NotebookRunCellArguments, String})()\n",
      "    @ VSCodeServer c:\\Users\\Anthony\\.vscode\\extensions\\julialang.language-julia-1.4.3\\scripts\\packages\\VSCodeServer\\src\\serve_notebook.jl:18\n",
      "  [8] withpath(f::VSCodeServer.var\"#98#99\"{VSCodeServer.NotebookRunCellArguments, String}, path::String)\n",
      "    @ VSCodeServer c:\\Users\\Anthony\\.vscode\\extensions\\julialang.language-julia-1.4.3\\scripts\\packages\\VSCodeServer\\src\\repl.jl:185\n",
      "  [9] notebook_runcell_request(conn::VSCodeServer.JSONRPC.JSONRPCEndpoint{Base.PipeEndpoint, Base.PipeEndpoint}, params::VSCodeServer.NotebookRunCellArguments)\n",
      "    @ VSCodeServer c:\\Users\\Anthony\\.vscode\\extensions\\julialang.language-julia-1.4.3\\scripts\\packages\\VSCodeServer\\src\\serve_notebook.jl:14\n",
      " [10] dispatch_msg(x::VSCodeServer.JSONRPC.JSONRPCEndpoint{Base.PipeEndpoint, Base.PipeEndpoint}, dispatcher::VSCodeServer.JSONRPC.MsgDispatcher, msg::Dict{String, Any})\n",
      "    @ VSCodeServer.JSONRPC c:\\Users\\Anthony\\.vscode\\extensions\\julialang.language-julia-1.4.3\\scripts\\packages\\JSONRPC\\src\\typed.jl:67\n",
      " [11] serve_notebook(pipename::String; crashreporting_pipename::String)\n",
      "    @ VSCodeServer c:\\Users\\Anthony\\.vscode\\extensions\\julialang.language-julia-1.4.3\\scripts\\packages\\VSCodeServer\\src\\serve_notebook.jl:94\n",
      " [12] top-level scope\n",
      "    @ c:\\Users\\Anthony\\.vscode\\extensions\\julialang.language-julia-1.4.3\\scripts\\notebook\\notebook.jl:10\n",
      " [13] include(mod::Module, _path::String)\n",
      "    @ Base .\\Base.jl:386\n",
      " [14] exec_options(opts::Base.JLOptions)\n",
      "    @ Base .\\client.jl:285\n",
      " [15] _start()\n",
      "    @ Base .\\client.jl:485"
     ]
    }
   ],
   "metadata": {}
  },
  {
   "cell_type": "markdown",
   "source": [
    "Similarly, check out the `||` operator, which also uses short-circuit evaluation to perform the \"or\" operation."
   ],
   "metadata": {}
  },
  {
   "cell_type": "code",
   "execution_count": 10,
   "source": [
    "true || println(\"hi\")"
   ],
   "outputs": [
    {
     "output_type": "display_data",
     "data": {
      "text/plain": [
       "true"
      ]
     },
     "metadata": {}
    }
   ],
   "metadata": {}
  },
  {
   "cell_type": "code",
   "execution_count": 11,
   "source": [
    "false || println(\"hi\")"
   ],
   "outputs": [
    {
     "output_type": "stream",
     "name": "stdout",
     "text": [
      "hi"
     ]
    }
   ],
   "metadata": {}
  },
  {
   "cell_type": "markdown",
   "source": [
    "# Exercises"
   ],
   "metadata": {}
  },
  {
   "cell_type": "markdown",
   "source": [
    "**5.1**\r\n",
    "\r\n",
    "Write a conditional statement that prints a number if the number is even and the string \"odd\" if the number is odd."
   ],
   "metadata": {}
  },
  {
   "cell_type": "code",
   "execution_count": 13,
   "source": [
    "N = 7\r\n",
    "\r\n",
    "if N%2 == 0\r\n",
    "    println(N)\r\n",
    "else\r\n",
    "    println(\"odd\")\r\n",
    "end"
   ],
   "outputs": [
    {
     "output_type": "stream",
     "name": "stdout",
     "text": [
      "odd\n"
     ]
    }
   ],
   "metadata": {}
  },
  {
   "cell_type": "markdown",
   "source": [
    "**5.2**\r\n",
    "\r\n",
    "Rewrite the code from 5.1 using a ternary operator."
   ],
   "metadata": {}
  },
  {
   "cell_type": "code",
   "execution_count": 23,
   "source": [
    "N= 7\r\n",
    "(N%2==0) ? println(N) : println(\"odd\")"
   ],
   "outputs": [
    {
     "output_type": "stream",
     "name": "stdout",
     "text": [
      "odd"
     ]
    }
   ],
   "metadata": {}
  },
  {
   "cell_type": "code",
   "execution_count": null,
   "source": [],
   "outputs": [],
   "metadata": {}
  }
 ],
 "metadata": {
  "orig_nbformat": 4,
  "language_info": {
   "name": "julia",
   "version": "1.6.2",
   "mimetype": "application/julia",
   "file_extension": ".jl"
  },
  "kernelspec": {
   "display_name": "Julia 1.6.2",
   "language": "julia",
   "name": "julia-1.6"
  }
 },
 "nbformat": 4,
 "nbformat_minor": 2
}